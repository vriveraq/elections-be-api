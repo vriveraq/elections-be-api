{
 "cells": [
  {
   "cell_type": "code",
   "execution_count": 1,
   "metadata": {},
   "outputs": [
    {
     "name": "stdout",
     "output_type": "stream",
     "text": [
      "Success!\n"
     ]
    }
   ],
   "source": [
    "# An exploration of the Belgian Elections 2019 using the API provided by the Open Knowledge BE Electhaton\n",
    "# For more information about the API: https://github.com/vriveraq/elections-be-api for local version. \n",
    "import pandas as pd\n",
    "import requests \n",
    "\n",
    "# Import results data\n",
    "election_results = requests.get(\"https://api.elections.openknowledge.be/format-r/results/2019/CK/C\")\n",
    "\n",
    "# Determine if request was successful\n",
    "if election_results.status_code == 200:\n",
    "    print('Success!')\n",
    "elif election_results.status_code == 404:\n",
    "    print('Not Found.')"
   ]
  },
  {
   "cell_type": "code",
   "execution_count": 2,
   "metadata": {},
   "outputs": [
    {
     "data": {
      "text/plain": [
       "{'Date': 'Mon, 27 May 2019 23:58:40 GMT', 'Server': 'Apache/2.4.18 (Ubuntu)', 'Cache-Control': 'max-age=300, public', 'Vary': 'Accept-Encoding', 'Content-Encoding': 'gzip', 'Access-Control-Allow-Origin': '*', 'Keep-Alive': 'timeout=5, max=100', 'Connection': 'Keep-Alive', 'Transfer-Encoding': 'chunked', 'Content-Type': 'application/json'}"
      ]
     },
     "execution_count": 2,
     "metadata": {},
     "output_type": "execute_result"
    }
   ],
   "source": [
    "# See what type of information is contained.\n",
    "election_results.headers"
   ]
  },
  {
   "cell_type": "code",
   "execution_count": 3,
   "metadata": {},
   "outputs": [
    {
     "name": "stdout",
     "output_type": "stream",
     "text": [
      "<class 'dict'>\n"
     ]
    }
   ],
   "source": [
    "data = election_results.json()\n",
    "print(type(data))\n",
    "#print(data)\n",
    "\n",
    "# delete date, time, and count for now \n",
    "del data['date']\n",
    "del data['time']\n",
    "del data['count']\n"
   ]
  },
  {
   "cell_type": "code",
   "execution_count": 4,
   "metadata": {},
   "outputs": [
    {
     "name": "stdout",
     "output_type": "stream",
     "text": [
      "dict_keys(['2220', '2230', '2229', '2228', '2223', '2222', '2224', '2225', '2221', '2226', '2227'])\n"
     ]
    }
   ],
   "source": [
    "print(data.keys()) # These keys correspond to the different regions"
   ]
  },
  {
   "cell_type": "code",
   "execution_count": 5,
   "metadata": {},
   "outputs": [],
   "source": [
    "# Creates empty dictionary\n",
    "candidate_dict = {} \n",
    "count = 0;\n",
    "for region_id in data:   \n",
    "    # Get candidate information     \n",
    "    for party_id in data[str(region_id)]['results']:\n",
    "        for key,candidate_id in data[str(region_id)]['results'][str(party_id)]['candidates'].items():                 \n",
    "            candidate_dict[key] = candidate_id "
   ]
  },
  {
   "cell_type": "code",
   "execution_count": 32,
   "metadata": {},
   "outputs": [],
   "source": [
    "candidate_data = {}\n",
    "count = 0\n",
    "# Extract relevant data in new dictionary\n",
    "for key, value in candidate_dict.items():\n",
    "    candidate_name = candidate_dict[str(key)]['candidate'].get('name');\n",
    "    # level_val = candidate_dict[str(key)]['candidate'].get('level')\n",
    "    party_name =  candidate_dict[str(key)]['candidate']['list'].get('name');\n",
    "    region_name = candidate_dict[str(key)]['candidate']['list']['entity'].get('name_en');  \n",
    "    num_votes = candidate_dict[str(key)]['votes']; \n",
    "    registrants = candidate_dict[str(key)]['candidate']['list']['entity']['registrations']\n",
    "    candidate_data[count] = {'name': candidate_name, 'party': party_name, 'region': region_name, 'votes': num_votes, 'registrations': registrants}\n",
    "    count += 1\n"
   ]
  },
  {
   "cell_type": "code",
   "execution_count": 85,
   "metadata": {},
   "outputs": [
    {
     "name": "stdout",
     "output_type": "stream",
     "text": [
      "2437\n"
     ]
    }
   ],
   "source": [
    "# Convert to data frame using pandas\n",
    "candidate_data_df = pd.DataFrame(candidate_data).transpose()\n",
    "print(len(candidate_data_df))"
   ]
  },
  {
   "cell_type": "code",
   "execution_count": 109,
   "metadata": {},
   "outputs": [],
   "source": [
    "# Create funcion that groups candidates by column\n",
    "import numpy as np\n",
    "import matplotlib.pyplot as plt\n",
    "\n",
    "def group_data_by(data_frame, column_name, top_num = 10, bar_plot = True, show_votes = True):\n",
    "    print('Candidates distribution by {}:'.format(column_name))\n",
    "    \n",
    "    types = data_frame[column_name].unique() # Here I print the distinct party names\n",
    "    labels_and_sizes = []\n",
    "\n",
    "    for group, frame in data_frame.groupby(column_name):\n",
    "        labels_and_sizes.append([group, len(frame)]) \n",
    "    \n",
    "\n",
    "    \n",
    "    group_df = pd.DataFrame(labels_and_sizes);\n",
    "    group_df.columns = [str(column_name),'size']\n",
    "    top = group_df.sort_values(by ='size', ascending = False).head(top_num)\n",
    "    if bar_plot == True: \n",
    "        y_pos = np.arange(1,2.0*len(top),2)\n",
    "        plt.barh(y_pos,top['size'],align = 'center', alpha = 0.5)\n",
    "        plt.yticks(y_pos, top[str(column_name)]) \n",
    "        plt.show()   \n",
    "\n",
    "    return top, votes_per_group\n",
    "\n",
    "def votes_per_group (data_frame, column_name, top_num = 10):\n",
    "    \n",
    "    votes_grouped_df = data_frame.groupby(['votes'])\n",
    "    #.sum().sort_values(ascending = False).head(top_num)\n",
    "\n",
    "    return votes_grouped_df"
   ]
  },
  {
   "cell_type": "code",
   "execution_count": 84,
   "metadata": {},
   "outputs": [
    {
     "name": "stdout",
     "output_type": "stream",
     "text": [
      "Candidates distribution by party:\n"
     ]
    },
    {
     "data": {
      "image/png": "[encoded data removed]",
      "text/plain": [
       "<Figure size 432x288 with 1 Axes>"
      ]
     },
     "metadata": {
      "needs_background": "light"
     },
     "output_type": "display_data"
    },
    {
     "data": {
      "text/plain": [
       "party\n",
       "AGIR                     4480\n",
       "B.U.B                    1880\n",
       "BUB Belgische Unie       3364\n",
       "CD&V                   999673\n",
       "CDH                    379725\n",
       "Collectif Citoyen       19651\n",
       "D-SA                     7190\n",
       "DierAnimal              32784\n",
       "DéFI                   131705\n",
       "ECOLO                  465949\n",
       "GROEN                  623125\n",
       "LA DROITE               10751\n",
       "LES BELGES D'ABORD       6321\n",
       "LISTES DESTEXHE         44389\n",
       "Lutte Ouvrière           3179\n",
       "MR                     687166\n",
       "N-VA                  1702263\n",
       "NATION                   6849\n",
       "Open Vld               841326\n",
       "PARTI POPULAIRE         67816\n",
       "PCB                      1432\n",
       "PRO                      7723\n",
       "PS                     857478\n",
       "PTB                    264847\n",
       "PTB*PVDA               120182\n",
       "PV&S                     5108\n",
       "PVDA                   364016\n",
       "Piratenpartij            6872\n",
       "Turquoise                 448\n",
       "VLAAMS BELANG         1119423\n",
       "Volt                     1682\n",
       "WALLONIE INSOUMISE       3223\n",
       "de coöperatie            1882\n",
       "sp.a                   710787\n",
       "Name: votes, dtype: int64"
      ]
     },
     "execution_count": 84,
     "metadata": {},
     "output_type": "execute_result"
    }
   ],
   "source": [
    "# group \n",
    "test_party = group_data_by(candidate_data_df,'party', show_votes = True, bar_plot = True)\n",
    "votes_per_group(candidate_data_df,'party')"
   ]
  },
  {
   "cell_type": "code",
   "execution_count": 60,
   "metadata": {},
   "outputs": [
    {
     "name": "stdout",
     "output_type": "stream",
     "text": [
      "Candidates distribution by region:\n"
     ]
    },
    {
     "data": {
      "image/png": "[encoded data removed]",
      "text/plain": [
       "<Figure size 432x288 with 1 Axes>"
      ]
     },
     "metadata": {
      "needs_background": "light"
     },
     "output_type": "display_data"
    },
    {
     "name": "stdout",
     "output_type": "stream",
     "text": [
      "                              region  size\n",
      "4            Constituency of Hainaut   348\n",
      "0            Constituency of Antwerp   326\n",
      "1   Constituency of Brussels-Capital   287\n",
      "6              Constituency of Liège   273\n",
      "2      Constituency of East-Flanders   258\n",
      "3    Constituency of Flemish Brabant   227\n",
      "10     Constituency of West-Flanders   184\n",
      "5            Constituency of Limburg   147\n",
      "8              Constituency of Namur   146\n",
      "9    Constituency of Walloon Brabant   135\n"
     ]
    }
   ],
   "source": [
    "test_region = group_data_by(candidate_data_df,'region',bar_plot = True)\n",
    "print(test_region)"
   ]
  },
  {
   "cell_type": "code",
   "execution_count": 61,
   "metadata": {},
   "outputs": [
    {
     "name": "stdout",
     "output_type": "stream",
     "text": [
      "<class 'pandas.core.frame.DataFrame'>\n",
      "Int64Index: 227 entries, 613 to 839\n",
      "Data columns (total 5 columns):\n",
      "name             227 non-null object\n",
      "party            227 non-null object\n",
      "region           227 non-null object\n",
      "registrations    227 non-null object\n",
      "votes            227 non-null object\n",
      "dtypes: object(5)\n",
      "memory usage: 10.6+ KB\n",
      "None\n",
      "                       name     party                           region  \\\n",
      "613         DE BLOCK Maggie  Open Vld  Constituency of Flemish Brabant   \n",
      "614           VANDENPUT Tim  Open Vld  Constituency of Flemish Brabant   \n",
      "615         LIEKENS Goedele  Open Vld  Constituency of Flemish Brabant   \n",
      "616  VANWESENBEECK Daniëlle  Open Vld  Constituency of Flemish Brabant   \n",
      "617          VAN BIESEN Luk  Open Vld  Constituency of Flemish Brabant   \n",
      "\n",
      "                                         registrations  votes  \n",
      "613  {'BB': 817707, 'E1_E2': 2368, 'E3_E4': 2247, '...  40819  \n",
      "614  {'BB': 817707, 'E1_E2': 2368, 'E3_E4': 2247, '...   9620  \n",
      "615  {'BB': 817707, 'E1_E2': 2368, 'E3_E4': 2247, '...  15678  \n",
      "616  {'BB': 817707, 'E1_E2': 2368, 'E3_E4': 2247, '...   6896  \n",
      "617  {'BB': 817707, 'E1_E2': 2368, 'E3_E4': 2247, '...   6643  \n"
     ]
    }
   ],
   "source": [
    "# We will focus now on the region of Flemish Brabant\n",
    "flemish_data = candidate_data_df[candidate_data_df['region'] == 'Constituency of Flemish Brabant']\n",
    "print(flemish_data.info())\n",
    "print(flemish_data.head())"
   ]
  },
  {
   "cell_type": "code",
   "execution_count": 110,
   "metadata": {},
   "outputs": [
    {
     "data": {
      "text/plain": [
       "<pandas.core.groupby.generic.DataFrameGroupBy object at 0x11db65668>"
      ]
     },
     "execution_count": 110,
     "metadata": {},
     "output_type": "execute_result"
    }
   ],
   "source": [
    "votes_per_group(flemish_data,'name')"
   ]
  },
  {
   "cell_type": "code",
   "execution_count": null,
   "metadata": {},
   "outputs": [],
   "source": []
  }
 ],
 "metadata": {
  "kernelspec": {
   "display_name": "Python 3",
   "language": "python",
   "name": "python3"
  },
  "language_info": {
   "codemirror_mode": {
    "name": "ipython",
    "version": 3
   },
   "file_extension": ".py",
   "mimetype": "text/x-python",
   "name": "python",
   "nbconvert_exporter": "python",
   "pygments_lexer": "ipython3",
   "version": "3.7.3"
  }
 },
 "nbformat": 4,
 "nbformat_minor": 2
}
